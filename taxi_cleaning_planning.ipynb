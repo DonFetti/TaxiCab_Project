{
 "cells": [
  {
   "cell_type": "markdown",
   "metadata": {},
   "source": [
    "# Project Inroduction\n",
    "\n",
    "The dataset used for this project contains data gathered by the New York City Taxi & Limousine Commission. For each trip, there are many different data variables gathered as seen in the dictionary below. The main goal of this project is to build a model that can predict the \"total_amount\" or final cost of a trip before the trip is taken so that this price may be shown to prospective riders to increase sales since buyers are more likely to buy a service when they know what they are getting. Also it's important to note that for the purposes of this project we are making the assumption that riders enter in the relevant information (Mainly Pickup/Dropoff Location from which many other variables can be derived) prior to booking the ride, the same way you would if you were using UBER for example."
   ]
  },
  {
   "cell_type": "markdown",
   "metadata": {},
   "source": [
    "### Data Dictionary / Feature Definitions"
   ]
  },
  {
   "cell_type": "markdown",
   "metadata": {},
   "source": [
    "**ID**: Trip identification number.\n",
    "\n",
    "**VendorID**: A code indicating the TPEP provider that provided the record.\n",
    "\n",
    "        1= Creative Mobile Technologies, LLC;\n",
    "\n",
    "        2= VeriFone Inc.\n",
    "\n",
    "**tpep_pickup_datetime**: The date and time when the meter was engaged.\n",
    "\n",
    "**tpep_dropoff_datetime**: The date and time when the meter was disengaged.\n",
    "\n",
    "**Passenger_count**: The number of passengers in the vehicle. This is a driver-entered value.\n",
    "\n",
    "**Trip_distance**: The elapsed trip distance in miles reported by the taximeter.\n",
    "\n",
    "**PULocationID**: TLC Taxi Zone in which the taximeter was engaged.\n",
    "\n",
    "**DOLocationID**: TLC Taxi Zone in which the taximeter was disengaged.\n",
    "\n",
    "**RateCodeID**: The final rate code in effect at the end of the trip.\n",
    "\n",
    "        1= Standard rate\n",
    "\n",
    "        2= JFK\n",
    "\n",
    "        3= Newark\n",
    "\n",
    "        4= Nassau or Westchester\n",
    "\n",
    "        5= Negotiated fare\n",
    "\n",
    "**Store_and_fwd_flag**: This flag indicates whether the trip record was held in vehicle memory before being sent to\n",
    "                           the vendor, aka “store and forward,” because the vehicle did not have a connection to the\n",
    "                           server.\n",
    "\n",
    "        Y= store and forward trip\n",
    "\n",
    "        N= not a store and forward trip\n",
    "\n",
    "***Payment_type***: A numeric code signifying how the passenger paid for the trip.\n",
    "\n",
    "        1= Credit card\n",
    "\n",
    "        2= Cash\n",
    "\n",
    "        3= No charge\n",
    "\n",
    "        4= Dispute\n",
    "\n",
    "        5= Unknown\n",
    "\n",
    "        6= Voided trip\n",
    "\n",
    "**Fare_amount**: The time-and-distance fare calculated by the meter.\n",
    "\n",
    "**Extra**: Miscellaneous extras and surcharges. Currently, this only includes the $0.50 and $1 rush hour and overnight charges.\n",
    "\n",
    "**MTA_tax**: $0.50 MTA tax that is automatically triggered based on the metered rate in use.\n",
    "\n",
    "**Improvement_surcharge**: $0.30 improvement surcharge assessed trips at the flag drop. The improvement surcharge began being levied in 2015.\n",
    "\n",
    "**Tip_amount**: Tip amount - This field is automatically populated for credit card tips. Cash tips are not included.\n",
    "\n",
    "**Tolls_amount**: Total amount of all tolls paid in trip."
   ]
  },
  {
   "cell_type": "markdown",
   "metadata": {},
   "source": [
    "#### _Let's start_ by taking an overview of the features and thier importancet to the main goal and see if there is any columns that can be premtively dropped so as to not waste time exploring them. (This would obviously be impractical on a dataset with a lot of features however I am including this here due to this being a portfolio project and therefore my thought process may be important to see)\n",
    "\n",
    "**Trip ID**: This is a statically increasing integer count of trips that I do not believe to even be specific to each vehicle (i.e. each vehicle tracks their own ride numbers) so this feature cannot be used in any way to predict the final cost of the ride.\n",
    "\n",
    "**Vendor ID**: There are two vendors in this dataset and they may have different rates they charge with thier taxis.\n",
    "\n",
    "**Pickup/Dropoff Datetime**: These values can be used to analyze if certain times in the day have more or less demand and thus may incur a premuim due the laws of supply/demand. If certain times can be proven to be more expensive then we can use this to predict final cost.\n",
    "\n",
    "**Passenger Count**: Since we don't know the ins and outs the policies at these taxi companies, drivers may be permitted to charge a premium based on certain amounts of riders, so this feature will need investigation as it may be useful.\n",
    "\n",
    "**Trip Distance**: We would expect this to be the one of the features with the highest correlation with the final cost of the ride.\n",
    "\n",
    "**Pickup/Dropoff Location**: These values can be used to analyze if certain zones have more or less traffic and thus take the taxi driver longer to navigate them making the ride run longer which would increase the final cost of the ride.\n",
    "\n",
    "**Ratecode**: This variable will need investgation as to how much of an effect it has on the final cost\n",
    "\n",
    "**Store & Forward Flag**: This variable is not expected to be valueable in predicting the final cost since it only tracks information that is gathed after the ride has taken place.\n",
    "\n",
    "**Payment Type**: We will need to checkk whether it makes a difference whether a rider pays by cash or card.\n",
    "\n",
    "**Fare Amount**: Since this feature is made up of other features which will be included in the final model, it is not necessary to include, since it will add undue additional weight to those features comprising it.\n",
    "\n",
    "**Extra**: This is a varible taken down at rides end and not available beforehand but since it only tracks certain premiums based on the time of day we can make binary columns in the dataset to track it instead.\n",
    "\n",
    "**MTA Tax**: A nearly perfectly static 50 cent charge applied after the ride ends, its value is included in the final cost already so this column is not necessary.\n",
    "\n",
    "**Improvement Surcharge**: A static 30 cent charge on every ride,, provides no predictive power since it never changes\n",
    "\n",
    "**Tip Amount**: Since tips are a variable controlled by the rider it can't reliably be predicted in a general sense, and probably not even in a per rider sense, even if we knew who was taking the ride and could remember thier previous tips. We will need to create a new column in the data set that tracks the subtotal of the ride (total_amount without tips) and then try to predict that\n",
    "\n",
    "**Tolls Amount**: This is another variable we would not have prior to the ride being completed, and since we do not have the data or capabilities within this setting to gather data and route information to estimate what tolls may be paid during the course of the trip, we will have to accept this value being added to the total and remove what variance we can by with the pickup and dropoff locations, since they may correlate with the tolls.\n",
    "\n",
    "**Total Amount**: As mentioned above we will be creating a new final cost column called subtotal, which is this value with tips subtracted.\n",
    "\n",
    "**In conclusion**, the features we will remove will be ID, Store_and_fwd_flag, Fare_amount, Extra, MTA_tax, Improvement_surcharge, Tip_amount, Tolls_amount, Total_amount."
   ]
  },
  {
   "cell_type": "code",
   "execution_count": 1,
   "metadata": {},
   "outputs": [],
   "source": [
    "# Imports\n",
    "import pandas as pd, seaborn as sns, numpy as np\n",
    "from scipy import stats\n",
    "from matplotlib import pyplot as plt\n",
    "from datetime import datetime, date, timedelta"
   ]
  },
  {
   "cell_type": "code",
   "execution_count": 2,
   "metadata": {},
   "outputs": [
    {
     "name": "stdout",
     "output_type": "stream",
     "text": [
      "<class 'pandas.core.frame.DataFrame'>\n",
      "RangeIndex: 22699 entries, 0 to 22698\n",
      "Data columns (total 18 columns):\n",
      " #   Column                 Non-Null Count  Dtype  \n",
      "---  ------                 --------------  -----  \n",
      " 0   Unnamed: 0             22699 non-null  int64  \n",
      " 1   VendorID               22699 non-null  int64  \n",
      " 2   tpep_pickup_datetime   22699 non-null  object \n",
      " 3   tpep_dropoff_datetime  22699 non-null  object \n",
      " 4   passenger_count        22699 non-null  int64  \n",
      " 5   trip_distance          22699 non-null  float64\n",
      " 6   RatecodeID             22699 non-null  int64  \n",
      " 7   store_and_fwd_flag     22699 non-null  object \n",
      " 8   PULocationID           22699 non-null  int64  \n",
      " 9   DOLocationID           22699 non-null  int64  \n",
      " 10  payment_type           22699 non-null  int64  \n",
      " 11  fare_amount            22699 non-null  float64\n",
      " 12  extra                  22699 non-null  float64\n",
      " 13  mta_tax                22699 non-null  float64\n",
      " 14  tip_amount             22699 non-null  float64\n",
      " 15  tolls_amount           22699 non-null  float64\n",
      " 16  improvement_surcharge  22699 non-null  float64\n",
      " 17  total_amount           22699 non-null  float64\n",
      "dtypes: float64(8), int64(7), object(3)\n",
      "memory usage: 3.1+ MB\n"
     ]
    }
   ],
   "source": [
    "df = pd.read_csv(\"taxicab_original.csv\")\n",
    "df.info()"
   ]
  },
  {
   "cell_type": "code",
   "execution_count": 5,
   "metadata": {},
   "outputs": [
    {
     "data": {
      "text/plain": [
       "tolls_amount\n",
       "0.00     21525\n",
       "5.76       847\n",
       "5.54       239\n",
       "10.50       21\n",
       "12.50       11\n",
       "2.64        10\n",
       "2.54         6\n",
       "11.52        3\n",
       "16.26        3\n",
       "16.50        2\n",
       "16.00        2\n",
       "8.50         2\n",
       "18.00        2\n",
       "15.50        2\n",
       "18.28        1\n",
       "8.40         1\n",
       "16.20        1\n",
       "5.45         1\n",
       "2.70         1\n",
       "16.62        1\n",
       "8.16         1\n",
       "5.16         1\n",
       "8.00         1\n",
       "4.32         1\n",
       "11.75        1\n",
       "15.58        1\n",
       "17.50        1\n",
       "6.00         1\n",
       "13.45        1\n",
       "5.49         1\n",
       "17.28        1\n",
       "5.44         1\n",
       "2.16         1\n",
       "13.00        1\n",
       "19.10        1\n",
       "18.26        1\n",
       "15.00        1\n",
       "6.32         1\n",
       "Name: count, dtype: int64"
      ]
     },
     "execution_count": 5,
     "metadata": {},
     "output_type": "execute_result"
    }
   ],
   "source": [
    "df[\"tolls_amount\"].value_counts()"
   ]
  },
  {
   "cell_type": "code",
   "execution_count": null,
   "metadata": {},
   "outputs": [],
   "source": []
  }
 ],
 "metadata": {
  "kernelspec": {
   "display_name": "_venv_taxicab",
   "language": "python",
   "name": "python3"
  },
  "language_info": {
   "codemirror_mode": {
    "name": "ipython",
    "version": 3
   },
   "file_extension": ".py",
   "mimetype": "text/x-python",
   "name": "python",
   "nbconvert_exporter": "python",
   "pygments_lexer": "ipython3",
   "version": "3.11.0"
  }
 },
 "nbformat": 4,
 "nbformat_minor": 2
}
