{
 "cells": [
  {
   "cell_type": "markdown",
   "metadata": {},
   "source": [
    "# Project Inroduction\n",
    "\n",
    "The dataset used for this project contains data gathered by the New York City Taxi & Limousine Commission. For each trip, there are multiple data gathered as seen in the dictionary below. The main goal of this project is to build a model that can predict the \"total_amount\" or final cost of a trip before the trip is taken so that this price may be shown to prospective riders to increase sales since buyers are more likely to buy a service when they know what they are getting.<sup>1</sup> Also it's important to note that for the purposes of this project we are making the assumption that riders enter in the relevant information (Mainly Pickup/Dropoff Location from which many other variables can be derived) prior to booking the ride, the same way you would if you were using UBER for example.\n",
    "\n",
    "<sup>1</sup><sub>[Pricing and the Psychology of Consumption-Harvard Business Review](https://hbr.org/2002/09/pricing-and-the-psychology-of-consumption)</sub>"
   ]
  },
  {
   "cell_type": "markdown",
   "metadata": {},
   "source": [
    "## Data Dictionary / Feature Definitions"
   ]
  },
  {
   "cell_type": "markdown",
   "metadata": {},
   "source": [
    "**ID**: Trip identification number.\n",
    "\n",
    "**VendorID**: A code indicating the TPEP provider that provided the record.\n",
    "\n",
    "        1= Creative Mobile Technologies, LLC;\n",
    "\n",
    "        2= VeriFone Inc.\n",
    "\n",
    "**tpep_pickup_datetime**: The date and time when the meter was engaged.\n",
    "\n",
    "**tpep_dropoff_datetime**: The date and time when the meter was disengaged.\n",
    "\n",
    "**Passenger_count**: The number of passengers in the vehicle. This is a driver-entered value.\n",
    "\n",
    "**Trip_distance**: The elapsed trip distance in miles reported by the taximeter.\n",
    "\n",
    "**PULocationID**: TLC Taxi Zone in which the taximeter was engaged.\n",
    "\n",
    "**DOLocationID**: TLC Taxi Zone in which the taximeter was disengaged.\n",
    "\n",
    "**RateCodeID**: The final rate code in effect at the end of the trip.\n",
    "\n",
    "        1= Standard rate\n",
    "\n",
    "        2= JFK\n",
    "\n",
    "        3= Newark\n",
    "\n",
    "        4= Nassau or Westchester\n",
    "\n",
    "        5= Negotiated fare\n",
    "\n",
    "**Store_and_fwd_flag**: This flag indicates whether the trip record was held in vehicle memory before being sent to\n",
    "                           the vendor, aka “store and forward,” because the vehicle did not have a connection to the\n",
    "                           server.\n",
    "\n",
    "        Y= store and forward trip\n",
    "\n",
    "        N= not a store and forward trip\n",
    "\n",
    "**Payment_type**: A numeric code signifying how the passenger paid for the trip.\n",
    "\n",
    "        1= Credit card\n",
    "\n",
    "        2= Cash\n",
    "\n",
    "        3= No charge\n",
    "\n",
    "        4= Dispute\n",
    "\n",
    "        5= Unknown\n",
    "\n",
    "        6= Voided trip\n",
    "\n",
    "**Fare_amount**: The time-and-distance fare calculated by the meter.\n",
    "\n",
    "**Extra**: Miscellaneous extras and surcharges. Currently, this only includes the $0.50 and $1 rush hour and overnight charges.\n",
    "\n",
    "**MTA_tax**: $0.50 MTA tax that is automatically triggered based on the metered rate in use.\n",
    "\n",
    "**Improvement_surcharge**: $0.30 improvement surcharge assessed trips at the flag drop. The improvement surcharge began being levied in 2015.\n",
    "\n",
    "**Tip_amount**: Tip amount - This field is automatically populated for credit card tips. Cash tips are not included.\n",
    "\n",
    "**Tolls_amount**: Total amount of all tolls paid in trip."
   ]
  },
  {
   "cell_type": "markdown",
   "metadata": {},
   "source": [
    "#### Let's start by taking an overview of the features and their importance to the main goal and see if there is any columns that can be premtively dropped so as to not waste time exploring them. (This would obviously be impractical on a dataset with a lot of features however I am including this here due to this being a portfolio project and therefore my thought process may be important to see)\n",
    "\n",
    "`Trip ID`: This is a statically increasing integer count of trips that I do not believe to even be specific to each vehicle (i.e. each vehicle tracks their own ride numbers) so this feature cannot be used in any way to predict the final cost of the ride.\n",
    "\n",
    "`Vendor ID`: There are two vendors in this dataset and they may have different rates they charge with thier taxis.\n",
    "\n",
    "`Pickup Datetime`: These values can be used to analyze if certain times in the day have more or less demand and thus may incur a premuim due to the laws of supply/demand. If certain times can be proven to be more expensive then we can use this to predict final cost.\n",
    "\n",
    "`Dropoff Datetime`: These values would not be avialable when our model is deployed, and although we could make the assumption that we could estimate this time, for the purposes of this project that assumption will not be made.\n",
    "\n",
    "`Passenger Count`: Since we don't know the ins and outs the policies at these taxi companies, drivers may be permitted to charge a premium based on certain amounts of riders, so this feature will need investigation as it may be useful.\n",
    "\n",
    "`Trip Distance`: We would expect this to be the feature with the highest correlation with the final cost of the ride.\n",
    "\n",
    "`Pickup/Dropoff Location`: These values can be used to analyze if certain zones have more or less traffic and thus take the taxi driver longer to navigate them making the ride run longer which would increase the final cost of the ride.\n",
    "\n",
    "`Ratecode`: This variable will need investgation as to how much of an effect it has on the final cost\n",
    "\n",
    "`Store & Forward Flag`: This variable is not expected to be valueable in predicting the final cost since it only tracks information that is gathed after the ride has taken place.\n",
    "\n",
    "`Payment Type`: We will need to check whether it makes a difference whether a rider pays by cash or card.\n",
    "\n",
    "`Fare Amount`: Since this feature is made up of other features which will be included in the final model, it is not necessary to include, since it will add undue additional weight to those features comprising it.\n",
    "\n",
    "`Extra`: This is a varible taken down after the ride is over and it is not available beforehand, but since it only tracks certain premiums based on the time of day we can make binary columns in the dataset based off of the datetime to track it instead.\n",
    "\n",
    "`MTA Tax`: A nearly perfectly static 50 cent charge applied after the ride ends, it's value is included in the final cost already so this column is not necessary.\n",
    "\n",
    "`Improvement Surcharge`: A static 30 cent charge on every ride, provides no predictive power since it never changes\n",
    "\n",
    "`Tip Amount`: Since tips are a variable controlled by the rider it can't reliably be used as a predictor, even if we knew who was taking the ride and could remember thier previous tips, it likely would not provide much value. We will need to create a new column in the data set that tracks the subtotal of the ride (total_amount without tips) and then try to predict that instead.\n",
    "\n",
    "`Tolls Amount`: This is another variable we would not have prior to the ride being completed, and since we do not have the data or capabilities within this setting to gather data and route information to estimate what tolls may be paid during the course of the trip, we will have to accept this value being added to the total and remove what variance we can by with the pickup and dropoff locations, since they may correlate with the tolls.\n",
    "\n",
    "`Total Amount`: As mentioned above we will be creating a new final cost column called subtotal, which is this value with tips subtracted.\n",
    "\n",
    "#### **In conclusion**,\n",
    "the features we will remove will be: `Trip ID`, `Store_and_fwd_flag`, `Extra`, `MTA_tax`, `Improvement_surcharge`, `Tip_amount`, `Tolls_amount`, `Total_amount`. But for now we will need to keep all the features that affect the subtotal, since we want to identify outliers. And we will keep `fare_amount` and `total_amount` should we want them for visualization purposes. So let's load in the data and drop these columns, but first we need to import some modules."
   ]
  },
  {
   "cell_type": "markdown",
   "metadata": {},
   "source": [
    "## Drop, Add, and Type-Correct Columns"
   ]
  },
  {
   "cell_type": "code",
   "execution_count": 1,
   "metadata": {},
   "outputs": [],
   "source": [
    "import pandas as pd, seaborn as sns, numpy as np\n",
    "from matplotlib import pyplot as plt"
   ]
  },
  {
   "cell_type": "code",
   "execution_count": 2,
   "metadata": {},
   "outputs": [],
   "source": [
    "data = pd.read_csv(\"taxicab_original.csv\")\n",
    "\n",
    "# Create what will be the column we want to predict, subtotal, which is the total_amount - tip_amount, for reasons stated above.\n",
    "subtotal = data[\"total_amount\"] - data[\"tip_amount\"]\n",
    "\n",
    "# Inserts \"subtotal\" just behind total_amount instead of at the end since it makes more logical sense for it to be here. \n",
    "insert_position = len(data.columns) - 1\n",
    "data.insert(insert_position, \"subtotal\", subtotal)\n",
    "\n",
    "# Drop all specified columns\n",
    "df = data.drop(columns=[\"Unnamed: 0\", \"tpep_dropoff_datetime\",  \"store_and_fwd_flag\"])"
   ]
  },
  {
   "cell_type": "markdown",
   "metadata": {},
   "source": [
    "Now let's examine the data types of our remaining features"
   ]
  },
  {
   "cell_type": "code",
   "execution_count": 3,
   "metadata": {},
   "outputs": [
    {
     "data": {
      "text/plain": [
       "VendorID                   int64\n",
       "tpep_pickup_datetime      object\n",
       "passenger_count            int64\n",
       "trip_distance            float64\n",
       "RatecodeID                 int64\n",
       "PULocationID               int64\n",
       "DOLocationID               int64\n",
       "payment_type               int64\n",
       "fare_amount              float64\n",
       "extra                    float64\n",
       "mta_tax                  float64\n",
       "tip_amount               float64\n",
       "tolls_amount             float64\n",
       "improvement_surcharge    float64\n",
       "subtotal                 float64\n",
       "total_amount             float64\n",
       "dtype: object"
      ]
     },
     "execution_count": 3,
     "metadata": {},
     "output_type": "execute_result"
    }
   ],
   "source": [
    "df.dtypes"
   ]
  },
  {
   "cell_type": "markdown",
   "metadata": {},
   "source": [
    "We have one column, `tpep_pickup_datetime`, that is incorrectly encoded as an object, so let's convert it to a datetime obejct and then reprint it's data type to verify the change is made."
   ]
  },
  {
   "cell_type": "code",
   "execution_count": 4,
   "metadata": {},
   "outputs": [
    {
     "name": "stdout",
     "output_type": "stream",
     "text": [
      "datetime64[ns]\n"
     ]
    }
   ],
   "source": [
    "df[\"tpep_pickup_datetime\"] = pd.to_datetime(df[\"tpep_pickup_datetime\"])\n",
    "new_type = df[\"tpep_pickup_datetime\"].dtype\n",
    "print(new_type)"
   ]
  },
  {
   "cell_type": "markdown",
   "metadata": {},
   "source": [
    "Since we're here already let's add some columns derived from the pickup time, one for the hour of the pickup (0-23), one for the day of pickup (Mon-Sun), one for the month (Jan-Dec) and one final binary column to account for whether the pickup time was during rush hour (defined here as the hours 6,7,8 & 9 in the morning and 4,5,6, & 7 in the evening, weekends being excluded) After this we can safely remove the `tpep_pickup_datetime` column since we have all of its important information split into these new columns"
   ]
  },
  {
   "cell_type": "code",
   "execution_count": 5,
   "metadata": {},
   "outputs": [],
   "source": [
    "hour = df['tpep_pickup_datetime'].dt.hour\n",
    "day = df['tpep_pickup_datetime'].dt.day_name().str.lower()\n",
    "month = df['tpep_pickup_datetime'].dt.month_name().str.lower()\n",
    "\n",
    "df.insert(2, \"hour\", hour)\n",
    "df.insert(3, \"day\", day)\n",
    "df.insert(4, \"month\", month)\n",
    "\n",
    "def is_rush_hour(hour, day):\n",
    "    return ((6 <= hour < 10) or (16 <= hour < 20)) and ((day != \"saturday\") and (day != \"sunday\"))\n",
    "rush_hour = df.apply(lambda x: 1 if is_rush_hour(x[\"hour\"], x[\"day\"]) else 0, axis = 1)\n",
    "\n",
    "df.insert(3, \"rush_hour\", rush_hour)\n",
    "\n",
    "df = df.drop(columns=[\"tpep_pickup_datetime\"])"
   ]
  },
  {
   "cell_type": "markdown",
   "metadata": {},
   "source": [
    "Let's make one more new column that will track the $/Mi rate of the trip called `ride_rate`, so that we can compare some of the variables later irrespective of the inevitible influence that `trip_distance` will have on the data. We will also impute a value of 0 for any rows that have a 0 for trip distance or fare amount."
   ]
  },
  {
   "cell_type": "code",
   "execution_count": 6,
   "metadata": {},
   "outputs": [],
   "source": [
    "ride_rate = np.where((df[\"fare_amount\"] > 0) & (df[\"trip_distance\"] > 0), df[\"fare_amount\"] / df[\"trip_distance\"], 0)\n",
    "\n",
    "# Insert the ride_rate column into the DataFrame at position 6\n",
    "df.insert(7, \"ride_rate\", ride_rate)"
   ]
  },
  {
   "cell_type": "code",
   "execution_count": 7,
   "metadata": {},
   "outputs": [
    {
     "data": {
      "text/html": [
       "<div>\n",
       "<style scoped>\n",
       "    .dataframe tbody tr th:only-of-type {\n",
       "        vertical-align: middle;\n",
       "    }\n",
       "\n",
       "    .dataframe tbody tr th {\n",
       "        vertical-align: top;\n",
       "    }\n",
       "\n",
       "    .dataframe thead th {\n",
       "        text-align: right;\n",
       "    }\n",
       "</style>\n",
       "<table border=\"1\" class=\"dataframe\">\n",
       "  <thead>\n",
       "    <tr style=\"text-align: right;\">\n",
       "      <th></th>\n",
       "      <th>VendorID</th>\n",
       "      <th>hour</th>\n",
       "      <th>rush_hour</th>\n",
       "      <th>day</th>\n",
       "      <th>month</th>\n",
       "      <th>passenger_count</th>\n",
       "      <th>trip_distance</th>\n",
       "      <th>ride_rate</th>\n",
       "      <th>RatecodeID</th>\n",
       "      <th>PULocationID</th>\n",
       "      <th>DOLocationID</th>\n",
       "      <th>payment_type</th>\n",
       "      <th>fare_amount</th>\n",
       "      <th>extra</th>\n",
       "      <th>mta_tax</th>\n",
       "      <th>tip_amount</th>\n",
       "      <th>tolls_amount</th>\n",
       "      <th>improvement_surcharge</th>\n",
       "      <th>subtotal</th>\n",
       "      <th>total_amount</th>\n",
       "    </tr>\n",
       "  </thead>\n",
       "  <tbody>\n",
       "    <tr>\n",
       "      <th>0</th>\n",
       "      <td>2</td>\n",
       "      <td>8</td>\n",
       "      <td>0</td>\n",
       "      <td>saturday</td>\n",
       "      <td>march</td>\n",
       "      <td>6</td>\n",
       "      <td>3.34</td>\n",
       "      <td>3.892216</td>\n",
       "      <td>1</td>\n",
       "      <td>100</td>\n",
       "      <td>231</td>\n",
       "      <td>1</td>\n",
       "      <td>13.0</td>\n",
       "      <td>0.0</td>\n",
       "      <td>0.5</td>\n",
       "      <td>2.76</td>\n",
       "      <td>0.0</td>\n",
       "      <td>0.3</td>\n",
       "      <td>13.8</td>\n",
       "      <td>16.56</td>\n",
       "    </tr>\n",
       "    <tr>\n",
       "      <th>1</th>\n",
       "      <td>1</td>\n",
       "      <td>14</td>\n",
       "      <td>0</td>\n",
       "      <td>tuesday</td>\n",
       "      <td>april</td>\n",
       "      <td>1</td>\n",
       "      <td>1.80</td>\n",
       "      <td>8.888889</td>\n",
       "      <td>1</td>\n",
       "      <td>186</td>\n",
       "      <td>43</td>\n",
       "      <td>1</td>\n",
       "      <td>16.0</td>\n",
       "      <td>0.0</td>\n",
       "      <td>0.5</td>\n",
       "      <td>4.00</td>\n",
       "      <td>0.0</td>\n",
       "      <td>0.3</td>\n",
       "      <td>16.8</td>\n",
       "      <td>20.80</td>\n",
       "    </tr>\n",
       "    <tr>\n",
       "      <th>2</th>\n",
       "      <td>1</td>\n",
       "      <td>7</td>\n",
       "      <td>1</td>\n",
       "      <td>friday</td>\n",
       "      <td>december</td>\n",
       "      <td>1</td>\n",
       "      <td>1.00</td>\n",
       "      <td>6.500000</td>\n",
       "      <td>1</td>\n",
       "      <td>262</td>\n",
       "      <td>236</td>\n",
       "      <td>1</td>\n",
       "      <td>6.5</td>\n",
       "      <td>0.0</td>\n",
       "      <td>0.5</td>\n",
       "      <td>1.45</td>\n",
       "      <td>0.0</td>\n",
       "      <td>0.3</td>\n",
       "      <td>7.3</td>\n",
       "      <td>8.75</td>\n",
       "    </tr>\n",
       "    <tr>\n",
       "      <th>3</th>\n",
       "      <td>2</td>\n",
       "      <td>13</td>\n",
       "      <td>0</td>\n",
       "      <td>sunday</td>\n",
       "      <td>may</td>\n",
       "      <td>1</td>\n",
       "      <td>3.70</td>\n",
       "      <td>5.540541</td>\n",
       "      <td>1</td>\n",
       "      <td>188</td>\n",
       "      <td>97</td>\n",
       "      <td>1</td>\n",
       "      <td>20.5</td>\n",
       "      <td>0.0</td>\n",
       "      <td>0.5</td>\n",
       "      <td>6.39</td>\n",
       "      <td>0.0</td>\n",
       "      <td>0.3</td>\n",
       "      <td>21.3</td>\n",
       "      <td>27.69</td>\n",
       "    </tr>\n",
       "    <tr>\n",
       "      <th>4</th>\n",
       "      <td>2</td>\n",
       "      <td>23</td>\n",
       "      <td>0</td>\n",
       "      <td>saturday</td>\n",
       "      <td>april</td>\n",
       "      <td>1</td>\n",
       "      <td>4.37</td>\n",
       "      <td>3.775744</td>\n",
       "      <td>1</td>\n",
       "      <td>4</td>\n",
       "      <td>112</td>\n",
       "      <td>2</td>\n",
       "      <td>16.5</td>\n",
       "      <td>0.5</td>\n",
       "      <td>0.5</td>\n",
       "      <td>0.00</td>\n",
       "      <td>0.0</td>\n",
       "      <td>0.3</td>\n",
       "      <td>17.8</td>\n",
       "      <td>17.80</td>\n",
       "    </tr>\n",
       "  </tbody>\n",
       "</table>\n",
       "</div>"
      ],
      "text/plain": [
       "   VendorID  hour  rush_hour       day     month  passenger_count  \\\n",
       "0         2     8          0  saturday     march                6   \n",
       "1         1    14          0   tuesday     april                1   \n",
       "2         1     7          1    friday  december                1   \n",
       "3         2    13          0    sunday       may                1   \n",
       "4         2    23          0  saturday     april                1   \n",
       "\n",
       "   trip_distance  ride_rate  RatecodeID  PULocationID  DOLocationID  \\\n",
       "0           3.34   3.892216           1           100           231   \n",
       "1           1.80   8.888889           1           186            43   \n",
       "2           1.00   6.500000           1           262           236   \n",
       "3           3.70   5.540541           1           188            97   \n",
       "4           4.37   3.775744           1             4           112   \n",
       "\n",
       "   payment_type  fare_amount  extra  mta_tax  tip_amount  tolls_amount  \\\n",
       "0             1         13.0    0.0      0.5        2.76           0.0   \n",
       "1             1         16.0    0.0      0.5        4.00           0.0   \n",
       "2             1          6.5    0.0      0.5        1.45           0.0   \n",
       "3             1         20.5    0.0      0.5        6.39           0.0   \n",
       "4             2         16.5    0.5      0.5        0.00           0.0   \n",
       "\n",
       "   improvement_surcharge  subtotal  total_amount  \n",
       "0                    0.3      13.8         16.56  \n",
       "1                    0.3      16.8         20.80  \n",
       "2                    0.3       7.3          8.75  \n",
       "3                    0.3      21.3         27.69  \n",
       "4                    0.3      17.8         17.80  "
      ]
     },
     "execution_count": 7,
     "metadata": {},
     "output_type": "execute_result"
    }
   ],
   "source": [
    "df.head()"
   ]
  },
  {
   "cell_type": "code",
   "execution_count": 8,
   "metadata": {},
   "outputs": [
    {
     "data": {
      "text/html": [
       "<div>\n",
       "<style scoped>\n",
       "    .dataframe tbody tr th:only-of-type {\n",
       "        vertical-align: middle;\n",
       "    }\n",
       "\n",
       "    .dataframe tbody tr th {\n",
       "        vertical-align: top;\n",
       "    }\n",
       "\n",
       "    .dataframe thead th {\n",
       "        text-align: right;\n",
       "    }\n",
       "</style>\n",
       "<table border=\"1\" class=\"dataframe\">\n",
       "  <thead>\n",
       "    <tr style=\"text-align: right;\">\n",
       "      <th></th>\n",
       "      <th>VendorID</th>\n",
       "      <th>hour</th>\n",
       "      <th>rush_hour</th>\n",
       "      <th>passenger_count</th>\n",
       "      <th>trip_distance</th>\n",
       "      <th>ride_rate</th>\n",
       "      <th>RatecodeID</th>\n",
       "      <th>PULocationID</th>\n",
       "      <th>DOLocationID</th>\n",
       "      <th>payment_type</th>\n",
       "      <th>fare_amount</th>\n",
       "      <th>extra</th>\n",
       "      <th>mta_tax</th>\n",
       "      <th>tip_amount</th>\n",
       "      <th>tolls_amount</th>\n",
       "      <th>improvement_surcharge</th>\n",
       "      <th>subtotal</th>\n",
       "      <th>total_amount</th>\n",
       "    </tr>\n",
       "  </thead>\n",
       "  <tbody>\n",
       "    <tr>\n",
       "      <th>count</th>\n",
       "      <td>22699.000000</td>\n",
       "      <td>22699.000000</td>\n",
       "      <td>22699.000000</td>\n",
       "      <td>22699.000000</td>\n",
       "      <td>22699.000000</td>\n",
       "      <td>22699.000000</td>\n",
       "      <td>22699.000000</td>\n",
       "      <td>22699.000000</td>\n",
       "      <td>22699.000000</td>\n",
       "      <td>22699.000000</td>\n",
       "      <td>22699.000000</td>\n",
       "      <td>22699.000000</td>\n",
       "      <td>22699.000000</td>\n",
       "      <td>22699.000000</td>\n",
       "      <td>22699.000000</td>\n",
       "      <td>22699.000000</td>\n",
       "      <td>22699.000000</td>\n",
       "      <td>22699.000000</td>\n",
       "    </tr>\n",
       "    <tr>\n",
       "      <th>mean</th>\n",
       "      <td>1.556236</td>\n",
       "      <td>13.726552</td>\n",
       "      <td>0.296753</td>\n",
       "      <td>1.642319</td>\n",
       "      <td>2.913313</td>\n",
       "      <td>7.369462</td>\n",
       "      <td>1.043394</td>\n",
       "      <td>162.412353</td>\n",
       "      <td>161.527997</td>\n",
       "      <td>1.336887</td>\n",
       "      <td>13.026629</td>\n",
       "      <td>0.333275</td>\n",
       "      <td>0.497445</td>\n",
       "      <td>1.835781</td>\n",
       "      <td>0.312542</td>\n",
       "      <td>0.299551</td>\n",
       "      <td>14.474721</td>\n",
       "      <td>16.310502</td>\n",
       "    </tr>\n",
       "    <tr>\n",
       "      <th>std</th>\n",
       "      <td>0.496838</td>\n",
       "      <td>6.224675</td>\n",
       "      <td>0.456837</td>\n",
       "      <td>1.285231</td>\n",
       "      <td>3.653171</td>\n",
       "      <td>71.809223</td>\n",
       "      <td>0.708391</td>\n",
       "      <td>66.633373</td>\n",
       "      <td>70.139691</td>\n",
       "      <td>0.496211</td>\n",
       "      <td>13.243791</td>\n",
       "      <td>0.463097</td>\n",
       "      <td>0.039465</td>\n",
       "      <td>2.800626</td>\n",
       "      <td>1.399212</td>\n",
       "      <td>0.015673</td>\n",
       "      <td>14.051942</td>\n",
       "      <td>16.097295</td>\n",
       "    </tr>\n",
       "    <tr>\n",
       "      <th>min</th>\n",
       "      <td>1.000000</td>\n",
       "      <td>0.000000</td>\n",
       "      <td>0.000000</td>\n",
       "      <td>0.000000</td>\n",
       "      <td>0.000000</td>\n",
       "      <td>0.000000</td>\n",
       "      <td>1.000000</td>\n",
       "      <td>1.000000</td>\n",
       "      <td>1.000000</td>\n",
       "      <td>1.000000</td>\n",
       "      <td>-120.000000</td>\n",
       "      <td>-1.000000</td>\n",
       "      <td>-0.500000</td>\n",
       "      <td>0.000000</td>\n",
       "      <td>0.000000</td>\n",
       "      <td>-0.300000</td>\n",
       "      <td>-120.300000</td>\n",
       "      <td>-120.300000</td>\n",
       "    </tr>\n",
       "    <tr>\n",
       "      <th>25%</th>\n",
       "      <td>1.000000</td>\n",
       "      <td>9.000000</td>\n",
       "      <td>0.000000</td>\n",
       "      <td>1.000000</td>\n",
       "      <td>0.990000</td>\n",
       "      <td>4.292387</td>\n",
       "      <td>1.000000</td>\n",
       "      <td>114.000000</td>\n",
       "      <td>112.000000</td>\n",
       "      <td>1.000000</td>\n",
       "      <td>6.500000</td>\n",
       "      <td>0.000000</td>\n",
       "      <td>0.500000</td>\n",
       "      <td>0.000000</td>\n",
       "      <td>0.000000</td>\n",
       "      <td>0.300000</td>\n",
       "      <td>7.800000</td>\n",
       "      <td>8.750000</td>\n",
       "    </tr>\n",
       "    <tr>\n",
       "      <th>50%</th>\n",
       "      <td>2.000000</td>\n",
       "      <td>14.000000</td>\n",
       "      <td>0.000000</td>\n",
       "      <td>1.000000</td>\n",
       "      <td>1.610000</td>\n",
       "      <td>5.500000</td>\n",
       "      <td>1.000000</td>\n",
       "      <td>162.000000</td>\n",
       "      <td>162.000000</td>\n",
       "      <td>1.000000</td>\n",
       "      <td>9.500000</td>\n",
       "      <td>0.000000</td>\n",
       "      <td>0.500000</td>\n",
       "      <td>1.350000</td>\n",
       "      <td>0.000000</td>\n",
       "      <td>0.300000</td>\n",
       "      <td>10.300000</td>\n",
       "      <td>11.800000</td>\n",
       "    </tr>\n",
       "    <tr>\n",
       "      <th>75%</th>\n",
       "      <td>2.000000</td>\n",
       "      <td>19.000000</td>\n",
       "      <td>1.000000</td>\n",
       "      <td>2.000000</td>\n",
       "      <td>3.060000</td>\n",
       "      <td>7.051282</td>\n",
       "      <td>1.000000</td>\n",
       "      <td>233.000000</td>\n",
       "      <td>233.000000</td>\n",
       "      <td>2.000000</td>\n",
       "      <td>14.500000</td>\n",
       "      <td>0.500000</td>\n",
       "      <td>0.500000</td>\n",
       "      <td>2.450000</td>\n",
       "      <td>0.000000</td>\n",
       "      <td>0.300000</td>\n",
       "      <td>15.800000</td>\n",
       "      <td>17.800000</td>\n",
       "    </tr>\n",
       "    <tr>\n",
       "      <th>max</th>\n",
       "      <td>2.000000</td>\n",
       "      <td>23.000000</td>\n",
       "      <td>1.000000</td>\n",
       "      <td>6.000000</td>\n",
       "      <td>33.960000</td>\n",
       "      <td>5200.000000</td>\n",
       "      <td>99.000000</td>\n",
       "      <td>265.000000</td>\n",
       "      <td>265.000000</td>\n",
       "      <td>4.000000</td>\n",
       "      <td>999.990000</td>\n",
       "      <td>4.500000</td>\n",
       "      <td>0.500000</td>\n",
       "      <td>200.000000</td>\n",
       "      <td>19.100000</td>\n",
       "      <td>0.300000</td>\n",
       "      <td>1000.290000</td>\n",
       "      <td>1200.290000</td>\n",
       "    </tr>\n",
       "  </tbody>\n",
       "</table>\n",
       "</div>"
      ],
      "text/plain": [
       "           VendorID          hour     rush_hour  passenger_count  \\\n",
       "count  22699.000000  22699.000000  22699.000000     22699.000000   \n",
       "mean       1.556236     13.726552      0.296753         1.642319   \n",
       "std        0.496838      6.224675      0.456837         1.285231   \n",
       "min        1.000000      0.000000      0.000000         0.000000   \n",
       "25%        1.000000      9.000000      0.000000         1.000000   \n",
       "50%        2.000000     14.000000      0.000000         1.000000   \n",
       "75%        2.000000     19.000000      1.000000         2.000000   \n",
       "max        2.000000     23.000000      1.000000         6.000000   \n",
       "\n",
       "       trip_distance     ride_rate    RatecodeID  PULocationID  DOLocationID  \\\n",
       "count   22699.000000  22699.000000  22699.000000  22699.000000  22699.000000   \n",
       "mean        2.913313      7.369462      1.043394    162.412353    161.527997   \n",
       "std         3.653171     71.809223      0.708391     66.633373     70.139691   \n",
       "min         0.000000      0.000000      1.000000      1.000000      1.000000   \n",
       "25%         0.990000      4.292387      1.000000    114.000000    112.000000   \n",
       "50%         1.610000      5.500000      1.000000    162.000000    162.000000   \n",
       "75%         3.060000      7.051282      1.000000    233.000000    233.000000   \n",
       "max        33.960000   5200.000000     99.000000    265.000000    265.000000   \n",
       "\n",
       "       payment_type   fare_amount         extra       mta_tax    tip_amount  \\\n",
       "count  22699.000000  22699.000000  22699.000000  22699.000000  22699.000000   \n",
       "mean       1.336887     13.026629      0.333275      0.497445      1.835781   \n",
       "std        0.496211     13.243791      0.463097      0.039465      2.800626   \n",
       "min        1.000000   -120.000000     -1.000000     -0.500000      0.000000   \n",
       "25%        1.000000      6.500000      0.000000      0.500000      0.000000   \n",
       "50%        1.000000      9.500000      0.000000      0.500000      1.350000   \n",
       "75%        2.000000     14.500000      0.500000      0.500000      2.450000   \n",
       "max        4.000000    999.990000      4.500000      0.500000    200.000000   \n",
       "\n",
       "       tolls_amount  improvement_surcharge      subtotal  total_amount  \n",
       "count  22699.000000           22699.000000  22699.000000  22699.000000  \n",
       "mean       0.312542               0.299551     14.474721     16.310502  \n",
       "std        1.399212               0.015673     14.051942     16.097295  \n",
       "min        0.000000              -0.300000   -120.300000   -120.300000  \n",
       "25%        0.000000               0.300000      7.800000      8.750000  \n",
       "50%        0.000000               0.300000     10.300000     11.800000  \n",
       "75%        0.000000               0.300000     15.800000     17.800000  \n",
       "max       19.100000               0.300000   1000.290000   1200.290000  "
      ]
     },
     "execution_count": 8,
     "metadata": {},
     "output_type": "execute_result"
    }
   ],
   "source": [
    "df.describe()"
   ]
  },
  {
   "cell_type": "markdown",
   "metadata": {},
   "source": [
    "## Outlier Handling"
   ]
  },
  {
   "cell_type": "markdown",
   "metadata": {},
   "source": [
    "As we see from this call to `df.head()` and `df.describe()` all of our changes were successfully applied, we dropped 8 columns and added 5 new ones. Now let's take a closer look at our remaining features and remove or impute any outliers. We can see we have some erros to fix. We have at least one negative value for `fare_amount`, and that would imply someone is being paid to take a taxi ride, which doesn't make sense. We will look at the cost of removing the rows with negative values, otherwise we will imput a value of 0 or the average value for `fare_amount`. We have similar errors with the columns `RatecodeID`, `Extra`, `mta_tax`, and `improvement_surcharge` (also `subtotal` and `total_amount` but this is only a result of the errors in the other columns) <br><br> We also notice some outliers in some of our columns, we have a value of 999.99 in `fare_amount`, 200.00 in `tip_amount` and the value of 33.96 for `trip_distance` may be an outlier so we will have to check."
   ]
  },
  {
   "cell_type": "code",
   "execution_count": 9,
   "metadata": {},
   "outputs": [
    {
     "data": {
      "text/plain": [
       "RatecodeID\n",
       "1     22070\n",
       "2       513\n",
       "5        68\n",
       "3        39\n",
       "4         8\n",
       "99        1\n",
       "Name: count, dtype: int64"
      ]
     },
     "execution_count": 9,
     "metadata": {},
     "output_type": "execute_result"
    }
   ],
   "source": [
    "df[\"RatecodeID\"].value_counts()"
   ]
  },
  {
   "cell_type": "markdown",
   "metadata": {},
   "source": [
    "This error in `RatecodeID` only occurs once, so we are safe to remove it"
   ]
  },
  {
   "cell_type": "code",
   "execution_count": 10,
   "metadata": {},
   "outputs": [],
   "source": [
    "df = df[df[\"RatecodeID\"] <= 5]"
   ]
  },
  {
   "cell_type": "markdown",
   "metadata": {},
   "source": [
    "Lets print out how many negative values are within each of the fiscal columns and evaluate how much of an effect it will have on the dataset to remove them."
   ]
  },
  {
   "cell_type": "code",
   "execution_count": 11,
   "metadata": {},
   "outputs": [
    {
     "name": "stdout",
     "output_type": "stream",
     "text": [
      "fare_amount below 0: 14\n",
      "\n",
      "Extra below 0: 9\n",
      "\n",
      "mta_tax below 0: 13\n",
      "\n",
      "tip_amount below 0: 0\n",
      "\n",
      "improvement_surcharge below 0: 14\n",
      "\n",
      "Total rows with negative amounts: 50\n"
     ]
    }
   ],
   "source": [
    "print(f'''fare_amount below 0: {df[df[\"fare_amount\"] < 0].__len__()}\n",
    "\n",
    "Extra below 0: {df[df[\"extra\"] < 0].__len__()}\n",
    "\n",
    "mta_tax below 0: {df[df[\"mta_tax\"] < 0].__len__()}\n",
    "\n",
    "tip_amount below 0: {df[df[\"tip_amount\"] < 0].__len__()}\n",
    "\n",
    "improvement_surcharge below 0: {df[df[\"improvement_surcharge\"] < 0].__len__()}\n",
    "\n",
    "Total rows with negative amounts: {14+9+13+14}''')"
   ]
  },
  {
   "cell_type": "markdown",
   "metadata": {},
   "source": [
    "So even if we assume all of the rows in this list to be perfectly mutually exclusive it still only amounts to 50 rows, and since there is around 23,000 rows in the dataset this is far less than 2% so removing all of these rows should not effect the final predictions too greatly. So if we assume these are values to be logically incorrect and likely the result of a typo during input, we are safe to remove them."
   ]
  },
  {
   "cell_type": "code",
   "execution_count": 14,
   "metadata": {},
   "outputs": [
    {
     "name": "stdout",
     "output_type": "stream",
     "text": [
      "Rows before: 22684\n",
      "Rows after: 22684\n",
      "Number of rows removed: 0\n"
     ]
    }
   ],
   "source": [
    "mask = (\n",
    "    (df[\"fare_amount\"] < 0) |\n",
    "    (df[\"extra\"] < 0) |\n",
    "    (df[\"mta_tax\"] < 0) |\n",
    "    (df[\"tip_amount\"] < 0) |\n",
    "    (df[\"improvement_surcharge\"] < 0)\n",
    ")\n",
    "\n",
    "rows_before = df.shape[0]\n",
    "# Use the mask to select rows that do not meet the condition and update the DataFrame\n",
    "df = df[~mask]\n",
    "rows_after = df.shape[0]\n",
    "print(f'Rows before: {rows_before}\\nRows after: {rows_after}\\nNumber of rows removed: {rows_before-rows_after}')"
   ]
  },
  {
   "cell_type": "markdown",
   "metadata": {},
   "source": [
    "Only 14 rows we're removed, even better than expected! Now let's take a look at some outliers in our dataset and see what can be done about them"
   ]
  },
  {
   "cell_type": "code",
   "execution_count": 15,
   "metadata": {},
   "outputs": [
    {
     "data": {
      "image/png": "[encoded data removed]",
      "text/plain": [
       "<Figure size 1600x600 with 4 Axes>"
      ]
     },
     "metadata": {},
     "output_type": "display_data"
    },
    {
     "name": "stdout",
     "output_type": "stream",
     "text": [
      "Upper (outlier) bound for Fare Amount: 26.5 (IQR): 8.0\n",
      "Upper (outlier) bound for Tip Amount: 6.125 (IQR): 2.45\n",
      "Upper (outlier) bound for Trip Distance: 6.19 (IQR): 2.08\n",
      "Upper (outlier) bound for Ride Rate: 11.18 (IQR): 2.75\n"
     ]
    }
   ],
   "source": [
    "plt.figure(figsize=(16, 6))\n",
    "plt.gcf().set_facecolor('lightgrey')\n",
    "\n",
    "\n",
    "plt.subplot(2,2,1)\n",
    "sns.boxplot(data=df[\"fare_amount\"], orient=\"h\")\n",
    "plt.title('Fare Amount ($USD)')\n",
    "plt.xlabel('')\n",
    "plt.axvline(x = 62.5)\n",
    "\n",
    "plt.subplot(2,2,2)\n",
    "sns.boxplot(data=df[\"tip_amount\"] , orient=\"h\")\n",
    "plt.title('Tip Amount ($USD)')\n",
    "plt.xlabel('')\n",
    "plt.axvline(x = 17.5)\n",
    "\n",
    "plt.subplot(2, 2, 3)\n",
    "sns.boxplot(data=df[\"trip_distance\"] , orient=\"h\")\n",
    "plt.title('Trip Distance (miles)')\n",
    "plt.xlabel('')\n",
    "plt.axvline(x = 24)\n",
    "\n",
    "plt.subplot(2, 2, 4)\n",
    "sns.boxplot(data=df[\"ride_rate\"] , orient=\"h\")\n",
    "plt.title('Ride Rate ($/Mi)')\n",
    "plt.xlabel('')\n",
    "plt.axvline(x = 25)\n",
    "\n",
    "plt.tight_layout()\n",
    "plt.show()\n",
    "\n",
    "iqr_fare = np.quantile(df[\"fare_amount\"], 0.75) - np.quantile(df[\"fare_amount\"], 0.25)\n",
    "iqr_tip = np.quantile(df[\"tip_amount\"], 0.75) - np.quantile(df[\"tip_amount\"], 0.25)\n",
    "iqr_distance = np.quantile(df[\"trip_distance\"], 0.75) - np.quantile(df[\"trip_distance\"], 0.25)\n",
    "iqr_rate = np.quantile(df[\"ride_rate\"], 0.75) - np.quantile(df[\"ride_rate\"], 0.25)\n",
    "print(f'Upper (outlier) bound for Fare Amount: {np.quantile(df[\"fare_amount\"], 0.75) + 1.5*iqr_fare} (IQR): {iqr_fare}')\n",
    "print(f'Upper (outlier) bound for Tip Amount: {np.quantile(df[\"tip_amount\"], 0.75) + 1.5*iqr_tip} (IQR): {iqr_tip}')\n",
    "print(f'Upper (outlier) bound for Trip Distance: {round((np.quantile(df[\"trip_distance\"], 0.75) + 1.5*iqr_distance),2)} (IQR): {round(iqr_distance,2)}')\n",
    "print(f'Upper (outlier) bound for Ride Rate: {round((np.quantile(df[\"ride_rate\"], 0.75) + 1.5*iqr_rate),2)} (IQR): {round(iqr_rate,2)}')"
   ]
  },
  {
   "cell_type": "markdown",
   "metadata": {},
   "source": [
    "**[ALL UPPER BOUNDS SHOWN IN BLUE ON BOXPLOTS]**\n",
    "\n",
    "The oulier upperbounds for `fare_amount`, `tip_amount` and `trip_distance` are 26.5, 6.125 and 6.19 respectively, All of with are intuitvely low, since even for some range above this bound, the values are likely from longer rides and therefore warranted and logical data that should not be removed. So let's set our outlier bound to Q3 + 6*IQR for bounds of 62.5 for `fare_amount` and 17.15 for `tip_amount`, however the outliers for `trip_distance` look to be fairly evenly distributed so we choose a bound even higher around where the values become more sparse (roughly 24 on the boxplot). These values will account for all of the super outliers but leave in some of the values that may help with estimating a better final line of best fit.\n",
    "\n",
    "`ride_rate` will have to be dealt with differently since its outliers are wide and very extreme, we will determine a sensible upper bound, calculate the average rate for all rates below that bound and greater than 0 (to ignore the effect that all the zeroes will have on the average), and impute that value for all rates above the bound and if there are too many rates of 0 in our dataset we will impute the average for all rates that equal 0 as well."
   ]
  },
  {
   "cell_type": "code",
   "execution_count": null,
   "metadata": {},
   "outputs": [],
   "source": [
    "def remove_outliers(df, columns, threshold=1.5):\n",
    "    \n",
    "    for column in columns:\n",
    "        Q1 = df[column].quantile(0.25)\n",
    "        Q3 = df[column].quantile(0.75)\n",
    "        IQR = Q3 - Q1\n",
    "        lower_bound = Q1 - threshold * IQR\n",
    "        upper_bound = Q3 + threshold * IQR\n",
    "        df = df[(df[column] >= lower_bound) & (df[column] <= upper_bound)]\n",
    "    \n",
    "    return df\n",
    "\n",
    "rows_before = df.shape[0]\n",
    "df = remove_outliers(df=df, columns=[\"fare_amount\",\"tip_amount\"], threshold = 6)\n",
    "df = remove_outliers(df=df, columns=[\"trip_distance\"], threshold = 8.5)\n",
    "rows_after = df.shape[0]\n",
    "\n",
    "print(f'Rows before: {rows_before}\\nRows after: {rows_after}\\nNumber of rows removed: {rows_before-rows_after}')"
   ]
  },
  {
   "cell_type": "markdown",
   "metadata": {},
   "source": [
    "Now let's work with ride_rate, first let's take a count of how many rows have problematic data by our standards. However to do that we need to determine what is a sensible upper bound. Going at it logically and asking ourselves what is the most one could be expected to pay to travel a single mile by taxi, we will set 25 dollars per mile to be the upper bound."
   ]
  },
  {
   "cell_type": "code",
   "execution_count": null,
   "metadata": {},
   "outputs": [],
   "source": [
    "rate_upper_bound = 25\n",
    "print(df[(df[\"ride_rate\"] == 0) | (df[\"ride_rate\"] >= rate_upper_bound)].shape[0])"
   ]
  },
  {
   "cell_type": "markdown",
   "metadata": {},
   "source": [
    "There are 249 rows that have either a zero or a value greater than 25 for ride_rate, that is a sensible amount to impute values for, so let's calculate the average and impute it for these rows."
   ]
  },
  {
   "cell_type": "code",
   "execution_count": null,
   "metadata": {},
   "outputs": [],
   "source": [
    "avg_rate = df[(df[\"ride_rate\"] > 0) & df[\"ride_rate\"] < rate_upper_bound][\"ride_rate\"].mean()\n",
    "print(avg_rate)\n",
    "\n",
    "# Impute avg rate for ride_rate where for these 165 columns\n",
    "df.loc[(df[\"ride_rate\"] == 0) | (df[\"ride_rate\"] >= rate_upper_bound), \"ride_rate\"] = avg_rate\n",
    "\n",
    "# Reprint the number of problematic columns which should now be 0 if our changes were made correctly\n",
    "print(df[(df[\"ride_rate\"] == 0) | (df[\"ride_rate\"] >= rate_upper_bound)].shape[0])"
   ]
  },
  {
   "cell_type": "markdown",
   "metadata": {},
   "source": [
    "The average rate which we determined from over 22,000 rows is 7.14, and we successfully imputed it for the 249 problematic rows, as verified by reprinting the number of problematic rows and having it be 0."
   ]
  },
  {
   "cell_type": "code",
   "execution_count": null,
   "metadata": {},
   "outputs": [],
   "source": [
    "plt.figure(figsize=(16, 6))\n",
    "plt.gcf().set_facecolor('lightgrey')\n",
    "\n",
    "plt.subplot(2,2,1)\n",
    "sns.boxplot(data=df[\"fare_amount\"], orient=\"h\")\n",
    "plt.title('Fare Amount ($USD)')\n",
    "plt.xlabel('')\n",
    "plt.axvline(x = 62.5)\n",
    "\n",
    "plt.subplot(2,2,2)\n",
    "sns.boxplot(data=df[\"tip_amount\"] , orient=\"h\")\n",
    "plt.title('Tip Amount ($USD)')\n",
    "plt.xlabel('')\n",
    "plt.axvline(x = 17.5)\n",
    "\n",
    "plt.subplot(2, 2, 3)\n",
    "sns.boxplot(data=df[\"trip_distance\"] , orient=\"h\")\n",
    "plt.title('Trip Distance (miles)')\n",
    "plt.xlabel('')\n",
    "plt.axvline(x = 24)\n",
    "\n",
    "plt.subplot(2, 2, 4)\n",
    "sns.boxplot(data=df[\"ride_rate\"] , orient=\"h\")\n",
    "plt.title('Ride Rate ($/Mi)')\n",
    "plt.xlabel('')\n",
    "plt.axvline(x = 25)\n",
    "\n",
    "plt.tight_layout()\n",
    "plt.show()"
   ]
  },
  {
   "cell_type": "code",
   "execution_count": null,
   "metadata": {},
   "outputs": [],
   "source": [
    "df.describe()"
   ]
  },
  {
   "cell_type": "markdown",
   "metadata": {},
   "source": [
    "Now we can see that all our changes have been made, there are no more negative values in the fiscal columns and all the agregious outliers have been removed. All that's left to remove the rest of the columns which will not be explored and make a new csv file to be loaded into the next notebook where we will do the exploring. \n",
    "\n",
    "In conclusion we removed 8 features, added 5 new ones, and removed 217 rows from the data frame, less than 1% of the overall data, and we imputed values for 249 rows.\n",
    "\n",
    "Let's take one final look at the dataset and then create our new csv."
   ]
  },
  {
   "cell_type": "code",
   "execution_count": null,
   "metadata": {},
   "outputs": [],
   "source": [
    "# Drop the irrelavent fiscal columns now that outliers have been removed\n",
    "df = df.drop(columns=[\"extra\", \"mta_tax\", \"improvement_surcharge\", \"tip_amount\", \"tolls_amount\"])\n",
    "\n",
    "df.head(10)"
   ]
  },
  {
   "cell_type": "code",
   "execution_count": null,
   "metadata": {},
   "outputs": [],
   "source": [
    "df.to_csv('taxicab_prepped.csv', index=False)"
   ]
  }
 ],
 "metadata": {
  "kernelspec": {
   "display_name": "env",
   "language": "python",
   "name": "python3"
  },
  "language_info": {
   "codemirror_mode": {
    "name": "ipython",
    "version": 3
   },
   "file_extension": ".py",
   "mimetype": "text/x-python",
   "name": "python",
   "nbconvert_exporter": "python",
   "pygments_lexer": "ipython3",
   "version": "3.11.1"
  }
 },
 "nbformat": 4,
 "nbformat_minor": 2
}
